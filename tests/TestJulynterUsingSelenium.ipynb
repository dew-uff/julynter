{
 "cells": [
  {
   "cell_type": "markdown",
   "metadata": {},
   "source": [
    "# Test Julynter\n",
    "\n",
    "This is a simple notebook that uses selenium to check whether all lints appear in an external notebook. I made it because of the effort of manually checking all messages, but I didn't do as proper tests to avoid the effort of detecting elements appearing. As a notebook, I can run at the right pace.\n",
    "\n",
    "Before running this notebook, there are some required steps:\n",
    "\n",
    "1- Create a folder and move into the folder: `mkdir temp; cd temp`\n",
    "\n",
    "2- Run jupyter lab externally (preferably in a clean environment with a fresh installation of Julynter): `jupyter lab`\n",
    "\n",
    "3- Check the URL and replace the `URL` variable below to use the proper token\n",
    "\n",
    "Now you can run this notebook cell by cell"
   ]
  },
  {
   "cell_type": "code",
   "execution_count": 1,
   "metadata": {},
   "outputs": [],
   "source": [
    "from contextlib import contextmanager\n",
    "from selenium import webdriver\n",
    "from selenium.webdriver.common.keys import Keys\n",
    "from selenium.webdriver.common.action_chains import ActionChains\n",
    "\n",
    "URL = 'http://localhost:8888/?token=df789e7f5f4b2e73468ae4345afc18de69c8e3335defa481'"
   ]
  },
  {
   "cell_type": "code",
   "execution_count": 2,
   "metadata": {},
   "outputs": [],
   "source": [
    "@contextmanager\n",
    "def act(driver):\n",
    "    actions = ActionChains(driver)\n",
    "    try:\n",
    "        yield actions\n",
    "    finally:\n",
    "        actions.perform()"
   ]
  },
  {
   "cell_type": "code",
   "execution_count": 3,
   "metadata": {},
   "outputs": [],
   "source": [
    "def find_lints(driver, text):\n",
    "    julynter_list = driver.find_element_by_css_selector('.jp-Julynter-content')\n",
    "    return julynter_list.find_elements_by_xpath(\n",
    "        '//div[contains(@class, \"julynter-report-prompt\")]/div[contains(., {!r})]'.format(text))"
   ]
  },
  {
   "cell_type": "code",
   "execution_count": 4,
   "metadata": {},
   "outputs": [],
   "source": [
    "def reload_lints(driver):\n",
    "    driver.find_element_by_css_selector('.julynter-title').click()"
   ]
  },
  {
   "cell_type": "code",
   "execution_count": 5,
   "metadata": {},
   "outputs": [],
   "source": [
    "def alt_enter(actions):\n",
    "    actions.key_down(Keys.ALT).send_keys(Keys.ENTER).key_up(Keys.ALT)"
   ]
  },
  {
   "cell_type": "code",
   "execution_count": 6,
   "metadata": {},
   "outputs": [],
   "source": [
    "def shift_enter(actions):\n",
    "    actions.key_down(Keys.SHIFT).send_keys(Keys.ENTER).key_up(Keys.SHIFT)"
   ]
  },
  {
   "cell_type": "code",
   "execution_count": 7,
   "metadata": {},
   "outputs": [],
   "source": [
    "def write(driver, text, execute=True, before=\"\"):\n",
    "    with act(driver) as actions:\n",
    "        if before:\n",
    "            actions.send_keys(before)\n",
    "        actions.send_keys(text)\n",
    "        if execute:\n",
    "            alt_enter(actions)\n"
   ]
  },
  {
   "cell_type": "code",
   "execution_count": 8,
   "metadata": {},
   "outputs": [],
   "source": [
    "driver = webdriver.Firefox()"
   ]
  },
  {
   "cell_type": "code",
   "execution_count": 9,
   "metadata": {},
   "outputs": [],
   "source": [
    "driver.get(URL)"
   ]
  },
  {
   "cell_type": "code",
   "execution_count": 10,
   "metadata": {},
   "outputs": [],
   "source": [
    "side_bar = driver.find_element_by_css_selector('.jp-SideBar')\n",
    "launcher = driver.find_element_by_css_selector('[title=\"New Launcher\"]')\n",
    "if not launcher.is_displayed():\n",
    "    side_bar.find_element_by_css_selector('[title=\"File Browser (Ctrl+Shift+F)\"]').click()"
   ]
  },
  {
   "cell_type": "code",
   "execution_count": 11,
   "metadata": {},
   "outputs": [],
   "source": [
    "driver.find_element_by_css_selector('[title=\"New Launcher\"]').click()"
   ]
  },
  {
   "cell_type": "code",
   "execution_count": 12,
   "metadata": {},
   "outputs": [],
   "source": [
    "driver.find_element_by_css_selector('.p-DockPanel-widget:not(.lm-mod-hidden) [title=\"Python 3\"]').click()"
   ]
  },
  {
   "cell_type": "code",
   "execution_count": 13,
   "metadata": {},
   "outputs": [],
   "source": [
    "side_bar.find_element_by_css_selector('[title=\"Julynter\"]').click()"
   ]
  },
  {
   "cell_type": "code",
   "execution_count": 14,
   "metadata": {},
   "outputs": [],
   "source": [
    "# T2\n",
    "title_lints = find_lints(driver, 'Title starts with \"Untitled\"')\n",
    "assert len(title_lints) > 0\n",
    "title_lints[0].click()"
   ]
  },
  {
   "cell_type": "code",
   "execution_count": 15,
   "metadata": {},
   "outputs": [],
   "source": [
    "with act(driver) as actions:\n",
    "    actions.send_keys(Keys.BACKSPACE + Keys.ENTER)\n",
    "reload_lints(driver)"
   ]
  },
  {
   "cell_type": "code",
   "execution_count": 16,
   "metadata": {},
   "outputs": [],
   "source": [
    "reload_lints(driver)"
   ]
  },
  {
   "cell_type": "code",
   "execution_count": 17,
   "metadata": {},
   "outputs": [],
   "source": [
    "# T1\n",
    "assert len(find_lints(driver, 'Title is empty')) > 0"
   ]
  },
  {
   "cell_type": "code",
   "execution_count": 18,
   "metadata": {},
   "outputs": [],
   "source": [
    "# T7\n",
    "title_lints = find_lints(driver, 'Title is too small')\n",
    "assert len(title_lints) > 0\n",
    "title_lints[0].click()"
   ]
  },
  {
   "cell_type": "code",
   "execution_count": 19,
   "metadata": {},
   "outputs": [],
   "source": [
    "with act(driver) as actions:\n",
    "    actions.send_keys(\"ã single title to rule them all but bigger better and stronger and even bigger so i dont know how big is too big-Copy.ipynb\" + Keys.ENTER)\n"
   ]
  },
  {
   "cell_type": "code",
   "execution_count": 20,
   "metadata": {},
   "outputs": [],
   "source": [
    "reload_lints(driver)"
   ]
  },
  {
   "cell_type": "code",
   "execution_count": 21,
   "metadata": {},
   "outputs": [],
   "source": [
    "# T3, T4, T5, T6\n",
    "assert len(find_lints(driver, 'Title has \"-Copy\"')) > 0\n",
    "assert len(find_lints(driver, 'Title has blank spaces')) > 0\n",
    "assert len(find_lints(driver, 'Title has special characters')) > 0\n",
    "assert len(find_lints(driver, 'Title is too big')) > 0\n",
    "find_lints(driver, 'Title is too big')[0].click()"
   ]
  },
  {
   "cell_type": "code",
   "execution_count": 22,
   "metadata": {},
   "outputs": [],
   "source": [
    "with act(driver) as actions:\n",
    "    actions.send_keys(\"NormalTitle\" + Keys.ENTER)\n"
   ]
  },
  {
   "cell_type": "code",
   "execution_count": 23,
   "metadata": {},
   "outputs": [],
   "source": [
    "reload_lints(driver)"
   ]
  },
  {
   "cell_type": "code",
   "execution_count": 24,
   "metadata": {},
   "outputs": [],
   "source": [
    "# c4\n",
    "lints = find_lints(driver, 'The first cell of the notebook is not a markdown cell')\n",
    "assert len(lints) > 0\n",
    "lints[0].click()"
   ]
  },
  {
   "cell_type": "code",
   "execution_count": 25,
   "metadata": {},
   "outputs": [],
   "source": [
    "with act(driver) as actions:\n",
    "    actions.send_keys(Keys.ESCAPE + \"m\" + Keys.ENTER)\n",
    "reload_lints(driver)"
   ]
  },
  {
   "cell_type": "code",
   "execution_count": 26,
   "metadata": {},
   "outputs": [],
   "source": [
    "driver.find_element_by_css_selector(':not(.lm-mod-hidden) .jp-Notebook').click()"
   ]
  },
  {
   "cell_type": "code",
   "execution_count": 27,
   "metadata": {},
   "outputs": [],
   "source": [
    "write(driver, \"title\", before=Keys.ENTER)"
   ]
  },
  {
   "cell_type": "code",
   "execution_count": 28,
   "metadata": {},
   "outputs": [],
   "source": [
    "write(driver, \"if False:\\nunknown\")"
   ]
  },
  {
   "cell_type": "code",
   "execution_count": 29,
   "metadata": {},
   "outputs": [],
   "source": [
    "# h6\n",
    "assert len(find_lints(driver, \"Cell 1 has the following undefined names: 'unknown'\")) > 0"
   ]
  },
  {
   "cell_type": "code",
   "execution_count": 30,
   "metadata": {},
   "outputs": [],
   "source": [
    "# c5\n",
    "assert len(find_lints(driver, \"The last cell of the notebook is not a markdown cell\")) > 0"
   ]
  },
  {
   "cell_type": "code",
   "execution_count": 31,
   "metadata": {},
   "outputs": [],
   "source": [
    "with act(driver) as actions:\n",
    "    actions.send_keys(Keys.ESCAPE + \"m\" + Keys.ENTER)\n",
    "reload_lints(driver)"
   ]
  },
  {
   "cell_type": "code",
   "execution_count": 32,
   "metadata": {},
   "outputs": [],
   "source": [
    "write(driver, \"templast\")"
   ]
  },
  {
   "cell_type": "code",
   "execution_count": 33,
   "metadata": {},
   "outputs": [],
   "source": [
    "write(driver, \"a = 1\", execute=False)"
   ]
  },
  {
   "cell_type": "code",
   "execution_count": 34,
   "metadata": {},
   "outputs": [],
   "source": [
    "with act(driver) as actions:\n",
    "    actions.send_keys(Keys.ESCAPE + \"b\" + Keys.ENTER)\n",
    "reload_lints(driver)"
   ]
  },
  {
   "cell_type": "code",
   "execution_count": 35,
   "metadata": {},
   "outputs": [],
   "source": [
    "write(driver, \"b = 1\")"
   ]
  },
  {
   "cell_type": "code",
   "execution_count": 36,
   "metadata": {},
   "outputs": [],
   "source": [
    "# c1\n",
    "assert len(find_lints(driver, \"Cell 3 is a non-executed cell among executed ones\")) > 0"
   ]
  },
  {
   "cell_type": "code",
   "execution_count": 37,
   "metadata": {},
   "outputs": [],
   "source": [
    "write(driver, \"\")"
   ]
  },
  {
   "cell_type": "code",
   "execution_count": 38,
   "metadata": {},
   "outputs": [],
   "source": [
    "write(driver, \"c = b\")"
   ]
  },
  {
   "cell_type": "code",
   "execution_count": 39,
   "metadata": {},
   "outputs": [],
   "source": [
    "# c3\n",
    "assert len(find_lints(driver, \"Cell 5 is empty in the middle of the notebook\")) > 0"
   ]
  },
  {
   "cell_type": "code",
   "execution_count": 40,
   "metadata": {},
   "outputs": [],
   "source": [
    "with act(driver) as actions:\n",
    "    actions.send_keys(Keys.ESCAPE + Keys.UP + Keys.UP + Keys.UP + Keys.UP + Keys.ENTER)\n",
    "    shift_enter(actions)\n",
    "    shift_enter(actions)\n",
    "    actions.send_keys(\"dd\")\n",
    "reload_lints(driver)"
   ]
  },
  {
   "cell_type": "code",
   "execution_count": 41,
   "metadata": {},
   "outputs": [],
   "source": [
    "# c2\n",
    "assert len(find_lints(driver, \"Cell 5 has the execution count 3 in the wrong order\")) > 0"
   ]
  },
  {
   "cell_type": "code",
   "execution_count": 42,
   "metadata": {},
   "outputs": [],
   "source": [
    "# h5\n",
    "assert len(find_lints(driver, \"Cell 5 uses name 'b' that was defined on In[2], but it does not exist anymore\")) > 0"
   ]
  },
  {
   "cell_type": "code",
   "execution_count": 43,
   "metadata": {},
   "outputs": [],
   "source": [
    "# h4\n",
    "assert len(find_lints(driver, \"Cell 5 skips the execution count\")) > 0"
   ]
  },
  {
   "cell_type": "code",
   "execution_count": 44,
   "metadata": {},
   "outputs": [],
   "source": [
    "with act(driver) as actions:\n",
    "    actions.send_keys(Keys.TAB)"
   ]
  },
  {
   "cell_type": "code",
   "execution_count": 45,
   "metadata": {},
   "outputs": [],
   "source": [
    "driver.find_element_by_css_selector(':not(.lm-mod-hidden) .jp-Notebook').click()"
   ]
  },
  {
   "cell_type": "code",
   "execution_count": 46,
   "metadata": {},
   "outputs": [],
   "source": [
    "with act(driver) as actions:\n",
    "    actions.send_keys(Keys.ENTER)"
   ]
  },
  {
   "cell_type": "code",
   "execution_count": 47,
   "metadata": {},
   "outputs": [],
   "source": [
    "with act(driver) as actions:\n",
    "    actions.send_keys(\" + 1\" + Keys.ESCAPE + Keys.UP)\n"
   ]
  },
  {
   "cell_type": "code",
   "execution_count": 48,
   "metadata": {},
   "outputs": [],
   "source": [
    "# h2\n",
    "lints = find_lints(driver, \"Cell 5 has changed since its execution, but it wasn't executed after the changes\")\n",
    "assert len(lints) > 0\n"
   ]
  },
  {
   "cell_type": "code",
   "execution_count": 49,
   "metadata": {},
   "outputs": [],
   "source": [
    "with act(driver) as actions:\n",
    "    actions.send_keys(Keys.DOWN)\n",
    "    shift_enter(actions)\n",
    "write(driver, \"import julynter\", before=Keys.ENTER)\n",
    "reload_lints(driver)"
   ]
  },
  {
   "cell_type": "code",
   "execution_count": 50,
   "metadata": {},
   "outputs": [],
   "source": [
    "# i1\n",
    "assert len(find_lints(driver, \"Cell 6 has imports but it is not the first cell\")) > 0"
   ]
  },
  {
   "cell_type": "code",
   "execution_count": 51,
   "metadata": {},
   "outputs": [],
   "source": [
    "# i2\n",
    "assert len(find_lints(driver, \"Module julynter was imported by Cell 6, but it is not in the requirements file\")) > 0"
   ]
  },
  {
   "cell_type": "code",
   "execution_count": 52,
   "metadata": {},
   "outputs": [],
   "source": [
    "driver.find_element_by_css_selector(':not(.lm-mod-hidden) .jp-Notebook').click()"
   ]
  },
  {
   "cell_type": "code",
   "execution_count": 53,
   "metadata": {},
   "outputs": [],
   "source": [
    "write(driver, \"temp = '/usr/bin'\", before=Keys.ENTER)"
   ]
  },
  {
   "cell_type": "code",
   "execution_count": 54,
   "metadata": {},
   "outputs": [],
   "source": [
    "reload_lints(driver)"
   ]
  },
  {
   "cell_type": "code",
   "execution_count": 55,
   "metadata": {},
   "outputs": [],
   "source": [
    "# p1\n",
    "assert len(find_lints(driver, \"Cell 7 has the following absolute paths: '/usr/bin'\")) > 0"
   ]
  },
  {
   "cell_type": "code",
   "execution_count": 56,
   "metadata": {},
   "outputs": [],
   "source": [
    "driver.find_element_by_css_selector(':not(.lm-mod-hidden) .jp-Notebook').click()"
   ]
  },
  {
   "cell_type": "code",
   "execution_count": 57,
   "metadata": {},
   "outputs": [],
   "source": [
    "with act(driver) as actions:\n",
    "    actions.send_keys(Keys.ESCAPE + \"00\")"
   ]
  },
  {
   "cell_type": "code",
   "execution_count": 58,
   "metadata": {},
   "outputs": [],
   "source": [
    "with act(driver) as actions:\n",
    "    actions.send_keys(Keys.ENTER)\n",
    "reload_lints(driver)"
   ]
  },
  {
   "cell_type": "code",
   "execution_count": 59,
   "metadata": {},
   "outputs": [],
   "source": [
    "# h1\n",
    "assert len(find_lints(driver, \"Cell 1 has execution results, but it wasn't executed on this session\")) > 0"
   ]
  },
  {
   "cell_type": "code",
   "execution_count": 60,
   "metadata": {},
   "outputs": [],
   "source": [
    "driver.find_element_by_css_selector(':not(.lm-mod-hidden) .jp-Notebook').click()\n",
    "with act(driver) as actions:\n",
    "    actions.send_keys(Keys.ESCAPE + Keys.UP + Keys.UP)"
   ]
  },
  {
   "cell_type": "code",
   "execution_count": 61,
   "metadata": {},
   "outputs": [],
   "source": [
    "with act(driver) as actions:\n",
    "    shift_enter(actions)\n",
    "reload_lints(driver)"
   ]
  },
  {
   "cell_type": "code",
   "execution_count": 62,
   "metadata": {},
   "outputs": [],
   "source": [
    "# h3\n",
    "assert len(find_lints(driver, \"Cell 7 repeats the execution count 1\")) > 0"
   ]
  },
  {
   "cell_type": "code",
   "execution_count": 63,
   "metadata": {},
   "outputs": [],
   "source": [
    "driver.find_element_by_css_selector(':not(.lm-mod-hidden) .jp-Notebook').click()"
   ]
  },
  {
   "cell_type": "code",
   "execution_count": 64,
   "metadata": {},
   "outputs": [],
   "source": [
    "# Cleanup\n",
    "write(driver, \"!rm NormalTitle.ipynb\", before=Keys.ENTER)"
   ]
  },
  {
   "cell_type": "code",
   "execution_count": 65,
   "metadata": {},
   "outputs": [],
   "source": [
    "with act(driver) as actions:\n",
    "    actions.key_down(Keys.ALT).send_keys(\"W\").key_up(Keys.ALT)"
   ]
  },
  {
   "cell_type": "code",
   "execution_count": 66,
   "metadata": {},
   "outputs": [],
   "source": [
    "with act(driver) as actions:\n",
    "    actions.send_keys(Keys.LEFT + Keys.ENTER)"
   ]
  },
  {
   "cell_type": "markdown",
   "metadata": {},
   "source": [
    "# Finished!\n",
    "Make sure to check that the notebook `NormalTitle.ipynb` were deleted"
   ]
  },
  {
   "cell_type": "code",
   "execution_count": null,
   "metadata": {},
   "outputs": [],
   "source": []
  }
 ],
 "metadata": {
  "julynter-check-filtered-hashes": [
   "f1b6743886ad56510240bccf4f8a521bb9e715bc",
   "40197c9415d9b39b49e5529da74b0ef3b6156264"
  ],
  "julynter-check-restart": false,
  "julynter-check-view": true,
  "julynter-results": {
   "filteredId": [],
   "filteredIndividual": [],
   "filteredRestart": [],
   "filteredType": [],
   "hash": "7f2163ec5bb19ef27efe11a5abf664f296885161",
   "visible": [
    {
     "cellId": "group",
     "hash": "c0de46ba034d710c2b2406a37ee6816be9634aa0",
     "reason": "This groups other lint messages",
     "reportId": "group",
     "reportType": "hiddenstate",
     "suggestion": null,
     "text": "Hidden State"
    },
    {
     "cellId": 1,
     "hash": "67bc0a8683bff5dc63e9eeb85bc31a9c4a7a1194",
     "reason": "A cell with code changes may produce different results than what it generated before the changes, hampering the reproducibility.",
     "reportId": "h2",
     "reportType": "hiddenstate",
     "suggestion": "Please consider re-executing it to guarantee the reproducibility.",
     "text": "Cell 1 has changed since its execution, but it wasn't executed after the changes"
    },
    {
     "cellId": 2,
     "hash": "8bebad470add15ccd45361526f56ff873ad6e55d",
     "reason": "A cell with results of a previous session may fail to execute or produce different results in this one, hampering the reproducibility.",
     "reportId": "h1",
     "reportType": "hiddenstate",
     "suggestion": "Please consider executing it to guarantee the reproducibility.",
     "text": "Cell 2 has execution results, but it wasn't executed on this session"
    },
    {
     "cellId": 3,
     "hash": "3b1ee442a02e8d86877b5ca3e12ff44d5b28ed44",
     "reason": "A cell with results of a previous session may fail to execute or produce different results in this one, hampering the reproducibility.",
     "reportId": "h1",
     "reportType": "hiddenstate",
     "suggestion": "Please consider executing it to guarantee the reproducibility.",
     "text": "Cell 3 has execution results, but it wasn't executed on this session"
    },
    {
     "cellId": 4,
     "hash": "8257a49ffd6aae40dd4c3618f38f381f06311bd3",
     "reason": "A cell with results of a previous session may fail to execute or produce different results in this one, hampering the reproducibility.",
     "reportId": "h1",
     "reportType": "hiddenstate",
     "suggestion": "Please consider executing it to guarantee the reproducibility.",
     "text": "Cell 4 has execution results, but it wasn't executed on this session"
    },
    {
     "cellId": 5,
     "hash": "bde0a732c8385b213e1eb6f548884dc1a4fe0d49",
     "reason": "A cell with results of a previous session may fail to execute or produce different results in this one, hampering the reproducibility.",
     "reportId": "h1",
     "reportType": "hiddenstate",
     "suggestion": "Please consider executing it to guarantee the reproducibility.",
     "text": "Cell 5 has execution results, but it wasn't executed on this session"
    },
    {
     "cellId": 6,
     "hash": "3cba0ce0b85aa5c2187bdc32aaff5ff1b3e77adf",
     "reason": "A cell with results of a previous session may fail to execute or produce different results in this one, hampering the reproducibility.",
     "reportId": "h1",
     "reportType": "hiddenstate",
     "suggestion": "Please consider executing it to guarantee the reproducibility.",
     "text": "Cell 6 has execution results, but it wasn't executed on this session"
    },
    {
     "cellId": 7,
     "hash": "d952a22bcc7a5bbdeec0c6ef40fd569fa6de509a",
     "reason": "A cell with results of a previous session may fail to execute or produce different results in this one, hampering the reproducibility.",
     "reportId": "h1",
     "reportType": "hiddenstate",
     "suggestion": "Please consider executing it to guarantee the reproducibility.",
     "text": "Cell 7 has execution results, but it wasn't executed on this session"
    },
    {
     "cellId": 8,
     "hash": "4ebdb88e4f8dfe2c7495df258883034b5a438326",
     "reason": "A cell with results of a previous session may fail to execute or produce different results in this one, hampering the reproducibility.",
     "reportId": "h1",
     "reportType": "hiddenstate",
     "suggestion": "Please consider executing it to guarantee the reproducibility.",
     "text": "Cell 8 has execution results, but it wasn't executed on this session"
    },
    {
     "cellId": 9,
     "hash": "5641dc713600b3686b98c33a9657ac910ff24af3",
     "reason": "A cell with results of a previous session may fail to execute or produce different results in this one, hampering the reproducibility.",
     "reportId": "h1",
     "reportType": "hiddenstate",
     "suggestion": "Please consider executing it to guarantee the reproducibility.",
     "text": "Cell 9 has execution results, but it wasn't executed on this session"
    },
    {
     "cellId": 10,
     "hash": "d9e7c6526bf615d8553d4a0aa85976978a457943",
     "reason": "A cell with results of a previous session may fail to execute or produce different results in this one, hampering the reproducibility.",
     "reportId": "h1",
     "reportType": "hiddenstate",
     "suggestion": "Please consider executing it to guarantee the reproducibility.",
     "text": "Cell 10 has execution results, but it wasn't executed on this session"
    },
    {
     "cellId": 11,
     "hash": "03bf2555b8fc9dd0d8e9b47f78c42d9891427b17",
     "reason": "A cell with results of a previous session may fail to execute or produce different results in this one, hampering the reproducibility.",
     "reportId": "h1",
     "reportType": "hiddenstate",
     "suggestion": "Please consider executing it to guarantee the reproducibility.",
     "text": "Cell 11 has execution results, but it wasn't executed on this session"
    },
    {
     "cellId": 12,
     "hash": "fc4bd397a95386c4a8599081c416c0444f076166",
     "reason": "A cell with results of a previous session may fail to execute or produce different results in this one, hampering the reproducibility.",
     "reportId": "h1",
     "reportType": "hiddenstate",
     "suggestion": "Please consider executing it to guarantee the reproducibility.",
     "text": "Cell 12 has execution results, but it wasn't executed on this session"
    },
    {
     "cellId": 13,
     "hash": "889a4974f4bbb1285cb62fc04ae2f77569ac2699",
     "reason": "A cell with results of a previous session may fail to execute or produce different results in this one, hampering the reproducibility.",
     "reportId": "h1",
     "reportType": "hiddenstate",
     "suggestion": "Please consider executing it to guarantee the reproducibility.",
     "text": "Cell 13 has execution results, but it wasn't executed on this session"
    },
    {
     "cellId": 14,
     "hash": "4e975d215a8ec8c3ef7870827250e30ae8bf5521",
     "reason": "A cell with results of a previous session may fail to execute or produce different results in this one, hampering the reproducibility.",
     "reportId": "h1",
     "reportType": "hiddenstate",
     "suggestion": "Please consider executing it to guarantee the reproducibility.",
     "text": "Cell 14 has execution results, but it wasn't executed on this session"
    },
    {
     "cellId": 15,
     "hash": "2a994a37c32fa7e5d57f67f3875fd678b707839c",
     "reason": "A cell with results of a previous session may fail to execute or produce different results in this one, hampering the reproducibility.",
     "reportId": "h1",
     "reportType": "hiddenstate",
     "suggestion": "Please consider executing it to guarantee the reproducibility.",
     "text": "Cell 15 has execution results, but it wasn't executed on this session"
    },
    {
     "cellId": 16,
     "hash": "96195dd1550f36191b558a7cf6e2a4f2c98d40ae",
     "reason": "A cell with results of a previous session may fail to execute or produce different results in this one, hampering the reproducibility.",
     "reportId": "h1",
     "reportType": "hiddenstate",
     "suggestion": "Please consider executing it to guarantee the reproducibility.",
     "text": "Cell 16 has execution results, but it wasn't executed on this session"
    },
    {
     "cellId": 17,
     "hash": "9e6f809079e292f1ed2ba822df5c9b7ac5c52dee",
     "reason": "A cell with results of a previous session may fail to execute or produce different results in this one, hampering the reproducibility.",
     "reportId": "h1",
     "reportType": "hiddenstate",
     "suggestion": "Please consider executing it to guarantee the reproducibility.",
     "text": "Cell 17 has execution results, but it wasn't executed on this session"
    },
    {
     "cellId": 18,
     "hash": "60eb7f0f2ed46cbcf9eaa7bddb4a166a3f2624c7",
     "reason": "A cell with results of a previous session may fail to execute or produce different results in this one, hampering the reproducibility.",
     "reportId": "h1",
     "reportType": "hiddenstate",
     "suggestion": "Please consider executing it to guarantee the reproducibility.",
     "text": "Cell 18 has execution results, but it wasn't executed on this session"
    },
    {
     "cellId": 19,
     "hash": "c084b45e3d1ef034b58acc8d9aaa986c5a6da4ed",
     "reason": "A cell with results of a previous session may fail to execute or produce different results in this one, hampering the reproducibility.",
     "reportId": "h1",
     "reportType": "hiddenstate",
     "suggestion": "Please consider executing it to guarantee the reproducibility.",
     "text": "Cell 19 has execution results, but it wasn't executed on this session"
    },
    {
     "cellId": 20,
     "hash": "af78aab58dfd7b5d9cdc22ed594c538cda6915d9",
     "reason": "A cell with results of a previous session may fail to execute or produce different results in this one, hampering the reproducibility.",
     "reportId": "h1",
     "reportType": "hiddenstate",
     "suggestion": "Please consider executing it to guarantee the reproducibility.",
     "text": "Cell 20 has execution results, but it wasn't executed on this session"
    },
    {
     "cellId": 21,
     "hash": "b5d9f9ba0b6553858b31c018429f5bc1540b7b9d",
     "reason": "A cell with results of a previous session may fail to execute or produce different results in this one, hampering the reproducibility.",
     "reportId": "h1",
     "reportType": "hiddenstate",
     "suggestion": "Please consider executing it to guarantee the reproducibility.",
     "text": "Cell 21 has execution results, but it wasn't executed on this session"
    },
    {
     "cellId": 22,
     "hash": "6639f868512da02a6a4498142f383e578f9cbe99",
     "reason": "A cell with results of a previous session may fail to execute or produce different results in this one, hampering the reproducibility.",
     "reportId": "h1",
     "reportType": "hiddenstate",
     "suggestion": "Please consider executing it to guarantee the reproducibility.",
     "text": "Cell 22 has execution results, but it wasn't executed on this session"
    },
    {
     "cellId": 23,
     "hash": "89a95b21bb2b2f45919b15ba0f31cc2ed161984e",
     "reason": "A cell with results of a previous session may fail to execute or produce different results in this one, hampering the reproducibility.",
     "reportId": "h1",
     "reportType": "hiddenstate",
     "suggestion": "Please consider executing it to guarantee the reproducibility.",
     "text": "Cell 23 has execution results, but it wasn't executed on this session"
    },
    {
     "cellId": 24,
     "hash": "4c9cfcd0a61b68349af9560ed29e2ccb88c65578",
     "reason": "A cell with results of a previous session may fail to execute or produce different results in this one, hampering the reproducibility.",
     "reportId": "h1",
     "reportType": "hiddenstate",
     "suggestion": "Please consider executing it to guarantee the reproducibility.",
     "text": "Cell 24 has execution results, but it wasn't executed on this session"
    },
    {
     "cellId": 25,
     "hash": "a6ca5d003a1701c4e49d188ed50ab287d745a00a",
     "reason": "A cell with results of a previous session may fail to execute or produce different results in this one, hampering the reproducibility.",
     "reportId": "h1",
     "reportType": "hiddenstate",
     "suggestion": "Please consider executing it to guarantee the reproducibility.",
     "text": "Cell 25 has execution results, but it wasn't executed on this session"
    },
    {
     "cellId": 26,
     "hash": "ab579851a223acc2b76969cdeec00a73f37aa166",
     "reason": "A cell with results of a previous session may fail to execute or produce different results in this one, hampering the reproducibility.",
     "reportId": "h1",
     "reportType": "hiddenstate",
     "suggestion": "Please consider executing it to guarantee the reproducibility.",
     "text": "Cell 26 has execution results, but it wasn't executed on this session"
    },
    {
     "cellId": 27,
     "hash": "1d7f182449d61b7123cfe5a788d5a62bc588e6d2",
     "reason": "A cell with results of a previous session may fail to execute or produce different results in this one, hampering the reproducibility.",
     "reportId": "h1",
     "reportType": "hiddenstate",
     "suggestion": "Please consider executing it to guarantee the reproducibility.",
     "text": "Cell 27 has execution results, but it wasn't executed on this session"
    },
    {
     "cellId": 28,
     "hash": "ac87318f06ed143e4faacade8a85a605423cdf33",
     "reason": "A cell with results of a previous session may fail to execute or produce different results in this one, hampering the reproducibility.",
     "reportId": "h1",
     "reportType": "hiddenstate",
     "suggestion": "Please consider executing it to guarantee the reproducibility.",
     "text": "Cell 28 has execution results, but it wasn't executed on this session"
    },
    {
     "cellId": 29,
     "hash": "bdf317bdbc97ca685feee7cc58ab322fc3e79d67",
     "reason": "A cell with results of a previous session may fail to execute or produce different results in this one, hampering the reproducibility.",
     "reportId": "h1",
     "reportType": "hiddenstate",
     "suggestion": "Please consider executing it to guarantee the reproducibility.",
     "text": "Cell 29 has execution results, but it wasn't executed on this session"
    },
    {
     "cellId": 30,
     "hash": "01f1ad5f5e43dd0379bfe744d3e1c46785dce99f",
     "reason": "A cell with results of a previous session may fail to execute or produce different results in this one, hampering the reproducibility.",
     "reportId": "h1",
     "reportType": "hiddenstate",
     "suggestion": "Please consider executing it to guarantee the reproducibility.",
     "text": "Cell 30 has execution results, but it wasn't executed on this session"
    },
    {
     "cellId": 31,
     "hash": "50249802aa0e655d424458298894866135423714",
     "reason": "A cell with results of a previous session may fail to execute or produce different results in this one, hampering the reproducibility.",
     "reportId": "h1",
     "reportType": "hiddenstate",
     "suggestion": "Please consider executing it to guarantee the reproducibility.",
     "text": "Cell 31 has execution results, but it wasn't executed on this session"
    },
    {
     "cellId": 32,
     "hash": "067067271237be0d6a0f831984908ef629a80fce",
     "reason": "A cell with results of a previous session may fail to execute or produce different results in this one, hampering the reproducibility.",
     "reportId": "h1",
     "reportType": "hiddenstate",
     "suggestion": "Please consider executing it to guarantee the reproducibility.",
     "text": "Cell 32 has execution results, but it wasn't executed on this session"
    },
    {
     "cellId": 33,
     "hash": "b159f81a9ea81c0e9144a22056dd8dc778786936",
     "reason": "A cell with results of a previous session may fail to execute or produce different results in this one, hampering the reproducibility.",
     "reportId": "h1",
     "reportType": "hiddenstate",
     "suggestion": "Please consider executing it to guarantee the reproducibility.",
     "text": "Cell 33 has execution results, but it wasn't executed on this session"
    },
    {
     "cellId": 34,
     "hash": "e1d4c8f026cdb00fbbecd0a9c9fadc5868eaf21b",
     "reason": "A cell with results of a previous session may fail to execute or produce different results in this one, hampering the reproducibility.",
     "reportId": "h1",
     "reportType": "hiddenstate",
     "suggestion": "Please consider executing it to guarantee the reproducibility.",
     "text": "Cell 34 has execution results, but it wasn't executed on this session"
    },
    {
     "cellId": 35,
     "hash": "21a8ccfac7b10f477de391951da2f4e325404997",
     "reason": "A cell with results of a previous session may fail to execute or produce different results in this one, hampering the reproducibility.",
     "reportId": "h1",
     "reportType": "hiddenstate",
     "suggestion": "Please consider executing it to guarantee the reproducibility.",
     "text": "Cell 35 has execution results, but it wasn't executed on this session"
    },
    {
     "cellId": 36,
     "hash": "4942867d5076f688267169231956c886a117e6d3",
     "reason": "A cell with results of a previous session may fail to execute or produce different results in this one, hampering the reproducibility.",
     "reportId": "h1",
     "reportType": "hiddenstate",
     "suggestion": "Please consider executing it to guarantee the reproducibility.",
     "text": "Cell 36 has execution results, but it wasn't executed on this session"
    },
    {
     "cellId": 37,
     "hash": "a237a268bbaa93bd08d7006e72fee2294a76bff7",
     "reason": "A cell with results of a previous session may fail to execute or produce different results in this one, hampering the reproducibility.",
     "reportId": "h1",
     "reportType": "hiddenstate",
     "suggestion": "Please consider executing it to guarantee the reproducibility.",
     "text": "Cell 37 has execution results, but it wasn't executed on this session"
    },
    {
     "cellId": 38,
     "hash": "49b6a65a841d6d186374a07b04192f7fdc7c8ff7",
     "reason": "A cell with results of a previous session may fail to execute or produce different results in this one, hampering the reproducibility.",
     "reportId": "h1",
     "reportType": "hiddenstate",
     "suggestion": "Please consider executing it to guarantee the reproducibility.",
     "text": "Cell 38 has execution results, but it wasn't executed on this session"
    },
    {
     "cellId": 39,
     "hash": "21e272abc8f59b845cac709670eb062296b96d8e",
     "reason": "A cell with results of a previous session may fail to execute or produce different results in this one, hampering the reproducibility.",
     "reportId": "h1",
     "reportType": "hiddenstate",
     "suggestion": "Please consider executing it to guarantee the reproducibility.",
     "text": "Cell 39 has execution results, but it wasn't executed on this session"
    },
    {
     "cellId": 40,
     "hash": "ff35a7d6edd712183db4c6e6a5da30ba746380ef",
     "reason": "A cell with results of a previous session may fail to execute or produce different results in this one, hampering the reproducibility.",
     "reportId": "h1",
     "reportType": "hiddenstate",
     "suggestion": "Please consider executing it to guarantee the reproducibility.",
     "text": "Cell 40 has execution results, but it wasn't executed on this session"
    },
    {
     "cellId": 41,
     "hash": "83216236d7e99b5b5f05db1c6681739668e64e21",
     "reason": "A cell with results of a previous session may fail to execute or produce different results in this one, hampering the reproducibility.",
     "reportId": "h1",
     "reportType": "hiddenstate",
     "suggestion": "Please consider executing it to guarantee the reproducibility.",
     "text": "Cell 41 has execution results, but it wasn't executed on this session"
    },
    {
     "cellId": 42,
     "hash": "e6ab02c92867e3eefa7d4438a65904fb305df02e",
     "reason": "A cell with results of a previous session may fail to execute or produce different results in this one, hampering the reproducibility.",
     "reportId": "h1",
     "reportType": "hiddenstate",
     "suggestion": "Please consider executing it to guarantee the reproducibility.",
     "text": "Cell 42 has execution results, but it wasn't executed on this session"
    },
    {
     "cellId": 43,
     "hash": "9420a69ee17bab7a9345c2ad410b958713a4a378",
     "reason": "A cell with results of a previous session may fail to execute or produce different results in this one, hampering the reproducibility.",
     "reportId": "h1",
     "reportType": "hiddenstate",
     "suggestion": "Please consider executing it to guarantee the reproducibility.",
     "text": "Cell 43 has execution results, but it wasn't executed on this session"
    },
    {
     "cellId": 44,
     "hash": "5e7c01c504cc3672cfd6bea3ea41cc5755912716",
     "reason": "A cell with results of a previous session may fail to execute or produce different results in this one, hampering the reproducibility.",
     "reportId": "h1",
     "reportType": "hiddenstate",
     "suggestion": "Please consider executing it to guarantee the reproducibility.",
     "text": "Cell 44 has execution results, but it wasn't executed on this session"
    },
    {
     "cellId": 45,
     "hash": "84a540dbb4e54475c88b13d005748e1a0b1395db",
     "reason": "A cell with results of a previous session may fail to execute or produce different results in this one, hampering the reproducibility.",
     "reportId": "h1",
     "reportType": "hiddenstate",
     "suggestion": "Please consider executing it to guarantee the reproducibility.",
     "text": "Cell 45 has execution results, but it wasn't executed on this session"
    },
    {
     "cellId": 46,
     "hash": "89725d65b895fabae1d59536e681448b07e43ae1",
     "reason": "A cell with results of a previous session may fail to execute or produce different results in this one, hampering the reproducibility.",
     "reportId": "h1",
     "reportType": "hiddenstate",
     "suggestion": "Please consider executing it to guarantee the reproducibility.",
     "text": "Cell 46 has execution results, but it wasn't executed on this session"
    },
    {
     "cellId": 47,
     "hash": "b8fc7a9ede55ead59b2c4827433dd3d581c8caf8",
     "reason": "A cell with results of a previous session may fail to execute or produce different results in this one, hampering the reproducibility.",
     "reportId": "h1",
     "reportType": "hiddenstate",
     "suggestion": "Please consider executing it to guarantee the reproducibility.",
     "text": "Cell 47 has execution results, but it wasn't executed on this session"
    },
    {
     "cellId": 48,
     "hash": "7c83e14d64cc477583af6398bf5e62548c86a3f4",
     "reason": "A cell with results of a previous session may fail to execute or produce different results in this one, hampering the reproducibility.",
     "reportId": "h1",
     "reportType": "hiddenstate",
     "suggestion": "Please consider executing it to guarantee the reproducibility.",
     "text": "Cell 48 has execution results, but it wasn't executed on this session"
    },
    {
     "cellId": 49,
     "hash": "d65422bb4fcb51dcdcd72ba7a34a096218fd4af5",
     "reason": "A cell with results of a previous session may fail to execute or produce different results in this one, hampering the reproducibility.",
     "reportId": "h1",
     "reportType": "hiddenstate",
     "suggestion": "Please consider executing it to guarantee the reproducibility.",
     "text": "Cell 49 has execution results, but it wasn't executed on this session"
    },
    {
     "cellId": 50,
     "hash": "e0feadcb8e5cd43c3ad4abdedb7e14ee9002d088",
     "reason": "A cell with results of a previous session may fail to execute or produce different results in this one, hampering the reproducibility.",
     "reportId": "h1",
     "reportType": "hiddenstate",
     "suggestion": "Please consider executing it to guarantee the reproducibility.",
     "text": "Cell 50 has execution results, but it wasn't executed on this session"
    },
    {
     "cellId": 51,
     "hash": "19bc83240b20348112a1503dddc2f4e66dfd55a9",
     "reason": "A cell with results of a previous session may fail to execute or produce different results in this one, hampering the reproducibility.",
     "reportId": "h1",
     "reportType": "hiddenstate",
     "suggestion": "Please consider executing it to guarantee the reproducibility.",
     "text": "Cell 51 has execution results, but it wasn't executed on this session"
    },
    {
     "cellId": 52,
     "hash": "1d6ce83e8e006b277ca0d369f7217d94956a2bbc",
     "reason": "A cell with results of a previous session may fail to execute or produce different results in this one, hampering the reproducibility.",
     "reportId": "h1",
     "reportType": "hiddenstate",
     "suggestion": "Please consider executing it to guarantee the reproducibility.",
     "text": "Cell 52 has execution results, but it wasn't executed on this session"
    },
    {
     "cellId": 53,
     "hash": "87588c7426b76e0110e3aa19982da1fd057b13a9",
     "reason": "A cell with results of a previous session may fail to execute or produce different results in this one, hampering the reproducibility.",
     "reportId": "h1",
     "reportType": "hiddenstate",
     "suggestion": "Please consider executing it to guarantee the reproducibility.",
     "text": "Cell 53 has execution results, but it wasn't executed on this session"
    },
    {
     "cellId": 54,
     "hash": "97a94c6c0335a6b151e8e7975097fedf24b3a707",
     "reason": "A cell with results of a previous session may fail to execute or produce different results in this one, hampering the reproducibility.",
     "reportId": "h1",
     "reportType": "hiddenstate",
     "suggestion": "Please consider executing it to guarantee the reproducibility.",
     "text": "Cell 54 has execution results, but it wasn't executed on this session"
    },
    {
     "cellId": 55,
     "hash": "4cf573f79dd5c18ebe5f64693b0efc2a3e19ac35",
     "reason": "A cell with results of a previous session may fail to execute or produce different results in this one, hampering the reproducibility.",
     "reportId": "h1",
     "reportType": "hiddenstate",
     "suggestion": "Please consider executing it to guarantee the reproducibility.",
     "text": "Cell 55 has execution results, but it wasn't executed on this session"
    },
    {
     "cellId": 56,
     "hash": "4eb263c383b80dff44be4160f69ed5658e99615c",
     "reason": "A cell with results of a previous session may fail to execute or produce different results in this one, hampering the reproducibility.",
     "reportId": "h1",
     "reportType": "hiddenstate",
     "suggestion": "Please consider executing it to guarantee the reproducibility.",
     "text": "Cell 56 has execution results, but it wasn't executed on this session"
    },
    {
     "cellId": 57,
     "hash": "72e2a6fe4dbd295f2a951ab6bc4e0872335269a2",
     "reason": "A cell with results of a previous session may fail to execute or produce different results in this one, hampering the reproducibility.",
     "reportId": "h1",
     "reportType": "hiddenstate",
     "suggestion": "Please consider executing it to guarantee the reproducibility.",
     "text": "Cell 57 has execution results, but it wasn't executed on this session"
    },
    {
     "cellId": 58,
     "hash": "9232a7905710ca38ee5bbd96100583573cb7862c",
     "reason": "A cell with results of a previous session may fail to execute or produce different results in this one, hampering the reproducibility.",
     "reportId": "h1",
     "reportType": "hiddenstate",
     "suggestion": "Please consider executing it to guarantee the reproducibility.",
     "text": "Cell 58 has execution results, but it wasn't executed on this session"
    },
    {
     "cellId": 59,
     "hash": "2158f863686fc260402567224c6d5d7f0731fe47",
     "reason": "A cell with results of a previous session may fail to execute or produce different results in this one, hampering the reproducibility.",
     "reportId": "h1",
     "reportType": "hiddenstate",
     "suggestion": "Please consider executing it to guarantee the reproducibility.",
     "text": "Cell 59 has execution results, but it wasn't executed on this session"
    },
    {
     "cellId": 60,
     "hash": "b001db4d80ed1c8b71b63109e4fe6651d25d3d00",
     "reason": "A cell with results of a previous session may fail to execute or produce different results in this one, hampering the reproducibility.",
     "reportId": "h1",
     "reportType": "hiddenstate",
     "suggestion": "Please consider executing it to guarantee the reproducibility.",
     "text": "Cell 60 has execution results, but it wasn't executed on this session"
    },
    {
     "cellId": 61,
     "hash": "ca6df6ec3d71895ee1c92fdab83ea039fbe40f19",
     "reason": "A cell with results of a previous session may fail to execute or produce different results in this one, hampering the reproducibility.",
     "reportId": "h1",
     "reportType": "hiddenstate",
     "suggestion": "Please consider executing it to guarantee the reproducibility.",
     "text": "Cell 61 has execution results, but it wasn't executed on this session"
    },
    {
     "cellId": 62,
     "hash": "69a6e2bbd73c41c246f4797aa82391a6ad0f4ed3",
     "reason": "A cell with results of a previous session may fail to execute or produce different results in this one, hampering the reproducibility.",
     "reportId": "h1",
     "reportType": "hiddenstate",
     "suggestion": "Please consider executing it to guarantee the reproducibility.",
     "text": "Cell 62 has execution results, but it wasn't executed on this session"
    },
    {
     "cellId": 63,
     "hash": "f718cdcaad133e5e6a3392285e9287627afeadb9",
     "reason": "A cell with results of a previous session may fail to execute or produce different results in this one, hampering the reproducibility.",
     "reportId": "h1",
     "reportType": "hiddenstate",
     "suggestion": "Please consider executing it to guarantee the reproducibility.",
     "text": "Cell 63 has execution results, but it wasn't executed on this session"
    },
    {
     "cellId": 64,
     "hash": "03c56af278f50eab0e8f2985f5f9efc98d7acd35",
     "reason": "A cell with results of a previous session may fail to execute or produce different results in this one, hampering the reproducibility.",
     "reportId": "h1",
     "reportType": "hiddenstate",
     "suggestion": "Please consider executing it to guarantee the reproducibility.",
     "text": "Cell 64 has execution results, but it wasn't executed on this session"
    },
    {
     "cellId": 65,
     "hash": "a626a0c5468f62f64bfdfcf1772d34c7d7ed2747",
     "reason": "A cell with results of a previous session may fail to execute or produce different results in this one, hampering the reproducibility.",
     "reportId": "h1",
     "reportType": "hiddenstate",
     "suggestion": "Please consider executing it to guarantee the reproducibility.",
     "text": "Cell 65 has execution results, but it wasn't executed on this session"
    },
    {
     "cellId": 66,
     "hash": "6ad34a164a42e35f75dec36102fe156259d6e7fa",
     "reason": "A cell with results of a previous session may fail to execute or produce different results in this one, hampering the reproducibility.",
     "reportId": "h1",
     "reportType": "hiddenstate",
     "suggestion": "Please consider executing it to guarantee the reproducibility.",
     "text": "Cell 66 has execution results, but it wasn't executed on this session"
    }
   ]
  },
  "kernelspec": {
   "display_name": "Python 3 (ipykernel)",
   "language": "python",
   "name": "python3"
  },
  "language_info": {
   "codemirror_mode": {
    "name": "ipython",
    "version": 3
   },
   "file_extension": ".py",
   "mimetype": "text/x-python",
   "name": "python",
   "nbconvert_exporter": "python",
   "pygments_lexer": "ipython3",
   "version": "3.9.7"
  }
 },
 "nbformat": 4,
 "nbformat_minor": 4
}
