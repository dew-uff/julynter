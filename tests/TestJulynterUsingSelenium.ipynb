{
 "cells": [
  {
   "cell_type": "markdown",
   "metadata": {},
   "source": [
    "# Test Julynter\n",
    "\n",
    "This is a simple notebook that uses selenium to check whether all lints appear in an external notebook. I made it because of the effort of manually checking all messages, but I didn't do as proper tests to avoid the effort of detecting elements appearing. As a notebook, I can run at the right pace.\n",
    "\n",
    "Before running this notebook, there are some required steps:\n",
    "\n",
    "1- Create a folder and move into the folder: `mkdir temp; cd temp`\n",
    "\n",
    "2- Run jupyter lab externally (preferably in a clean environment with a fresh installation of Julynter): `jupyter lab`\n",
    "\n",
    "3- Check the URL and replace the `URL` variable below to use the proper token\n",
    "\n",
    "Now you can run this notebook cell by cell"
   ]
  },
  {
   "cell_type": "code",
   "execution_count": 1,
   "metadata": {},
   "outputs": [],
   "source": [
    "from contextlib import contextmanager\n",
    "from selenium import webdriver\n",
    "from selenium.webdriver.common.keys import Keys\n",
    "from selenium.webdriver.common.action_chains import ActionChains\n",
    "\n",
    "URL = 'http://localhost:8888/?token=df789e7f5f4b2e73468ae4345afc18de69c8e3335defa481'"
   ]
  },
  {
   "cell_type": "code",
   "execution_count": 2,
   "metadata": {},
   "outputs": [],
   "source": [
    "@contextmanager\n",
    "def act(driver):\n",
    "    actions = ActionChains(driver)\n",
    "    try:\n",
    "        yield actions\n",
    "    finally:\n",
    "        actions.perform()"
   ]
  },
  {
   "cell_type": "code",
   "execution_count": 3,
   "metadata": {},
   "outputs": [],
   "source": [
    "def find_lints(driver, text):\n",
    "    julynter_list = driver.find_element_by_css_selector('.jp-Julynter-content')\n",
    "    return julynter_list.find_elements_by_xpath(\n",
    "        '//div[contains(@class, \"julynter-report-prompt\")]/div[contains(., {!r})]'.format(text))"
   ]
  },
  {
   "cell_type": "code",
   "execution_count": 4,
   "metadata": {},
   "outputs": [],
   "source": [
    "def reload_lints(driver):\n",
    "    driver.find_element_by_css_selector('.julynter-title').click()"
   ]
  },
  {
   "cell_type": "code",
   "execution_count": 5,
   "metadata": {},
   "outputs": [],
   "source": [
    "def alt_enter(actions):\n",
    "    actions.key_down(Keys.ALT).send_keys(Keys.ENTER).key_up(Keys.ALT)"
   ]
  },
  {
   "cell_type": "code",
   "execution_count": 6,
   "metadata": {},
   "outputs": [],
   "source": [
    "def shift_enter(actions):\n",
    "    actions.key_down(Keys.SHIFT).send_keys(Keys.ENTER).key_up(Keys.SHIFT)"
   ]
  },
  {
   "cell_type": "code",
   "execution_count": 7,
   "metadata": {},
   "outputs": [],
   "source": [
    "def write(driver, text, execute=True, before=\"\"):\n",
    "    with act(driver) as actions:\n",
    "        if before:\n",
    "            actions.send_keys(before)\n",
    "        actions.send_keys(text)\n",
    "        if execute:\n",
    "            alt_enter(actions)\n"
   ]
  },
  {
   "cell_type": "code",
   "execution_count": 8,
   "metadata": {},
   "outputs": [],
   "source": [
    "driver = webdriver.Firefox()"
   ]
  },
  {
   "cell_type": "code",
   "execution_count": 9,
   "metadata": {},
   "outputs": [],
   "source": [
    "driver.get(URL)"
   ]
  },
  {
   "cell_type": "code",
   "execution_count": 10,
   "metadata": {},
   "outputs": [],
   "source": [
    "side_bar = driver.find_element_by_css_selector('.jp-SideBar')\n",
    "launcher = driver.find_element_by_css_selector('[title=\"New Launcher\"]')\n",
    "if not launcher.is_displayed():\n",
    "    side_bar.find_element_by_css_selector('[title=\"File Browser (Ctrl+Shift+F)\"]').click()"
   ]
  },
  {
   "cell_type": "code",
   "execution_count": 11,
   "metadata": {},
   "outputs": [],
   "source": [
    "driver.find_element_by_css_selector('[title=\"New Launcher\"]').click()"
   ]
  },
  {
   "cell_type": "code",
   "execution_count": 12,
   "metadata": {},
   "outputs": [],
   "source": [
    "driver.find_element_by_css_selector('.p-DockPanel-widget:not(.lm-mod-hidden) [title=\"Python 3\"]').click()"
   ]
  },
  {
   "cell_type": "code",
   "execution_count": 13,
   "metadata": {},
   "outputs": [],
   "source": [
    "side_bar.find_element_by_css_selector('[title=\"Julynter\"]').click()"
   ]
  },
  {
   "cell_type": "code",
   "execution_count": 14,
   "metadata": {},
   "outputs": [],
   "source": [
    "# T2\n",
    "title_lints = find_lints(driver, 'Title starts with \"Untitled\"')\n",
    "assert len(title_lints) > 0\n",
    "title_lints[0].click()"
   ]
  },
  {
   "cell_type": "code",
   "execution_count": 15,
   "metadata": {},
   "outputs": [],
   "source": [
    "with act(driver) as actions:\n",
    "    actions.send_keys(Keys.BACKSPACE + Keys.ENTER)\n",
    "reload_lints(driver)"
   ]
  },
  {
   "cell_type": "code",
   "execution_count": 16,
   "metadata": {},
   "outputs": [],
   "source": [
    "reload_lints(driver)"
   ]
  },
  {
   "cell_type": "code",
   "execution_count": 17,
   "metadata": {},
   "outputs": [],
   "source": [
    "# T1\n",
    "assert len(find_lints(driver, 'Title is empty')) > 0"
   ]
  },
  {
   "cell_type": "code",
   "execution_count": 18,
   "metadata": {},
   "outputs": [],
   "source": [
    "# T7\n",
    "title_lints = find_lints(driver, 'Title is too small')\n",
    "assert len(title_lints) > 0\n",
    "title_lints[0].click()"
   ]
  },
  {
   "cell_type": "code",
   "execution_count": 19,
   "metadata": {},
   "outputs": [],
   "source": [
    "with act(driver) as actions:\n",
    "    actions.send_keys(\"ã single title to rule them all but bigger better and stronger and even bigger so i dont know how big is too big-Copy.ipynb\" + Keys.ENTER)\n"
   ]
  },
  {
   "cell_type": "code",
   "execution_count": 20,
   "metadata": {},
   "outputs": [],
   "source": [
    "reload_lints(driver)"
   ]
  },
  {
   "cell_type": "code",
   "execution_count": 21,
   "metadata": {},
   "outputs": [],
   "source": [
    "# T3, T4, T5, T6\n",
    "assert len(find_lints(driver, 'Title has \"-Copy\"')) > 0\n",
    "assert len(find_lints(driver, 'Title has blank spaces')) > 0\n",
    "assert len(find_lints(driver, 'Title has special characters')) > 0\n",
    "assert len(find_lints(driver, 'Title is too big')) > 0\n",
    "find_lints(driver, 'Title is too big')[0].click()"
   ]
  },
  {
   "cell_type": "code",
   "execution_count": 22,
   "metadata": {},
   "outputs": [],
   "source": [
    "with act(driver) as actions:\n",
    "    actions.send_keys(\"NormalTitle\" + Keys.ENTER)\n"
   ]
  },
  {
   "cell_type": "code",
   "execution_count": 23,
   "metadata": {},
   "outputs": [],
   "source": [
    "reload_lints(driver)"
   ]
  },
  {
   "cell_type": "code",
   "execution_count": 24,
   "metadata": {},
   "outputs": [],
   "source": [
    "# c4\n",
    "lints = find_lints(driver, 'The first cell of the notebook is not a markdown cell')\n",
    "assert len(lints) > 0\n",
    "lints[0].click()"
   ]
  },
  {
   "cell_type": "code",
   "execution_count": 25,
   "metadata": {},
   "outputs": [],
   "source": [
    "with act(driver) as actions:\n",
    "    actions.send_keys(Keys.ESCAPE + \"m\" + Keys.ENTER)\n",
    "reload_lints(driver)"
   ]
  },
  {
   "cell_type": "code",
   "execution_count": 26,
   "metadata": {},
   "outputs": [],
   "source": [
    "driver.find_element_by_css_selector(':not(.lm-mod-hidden) .jp-Notebook').click()"
   ]
  },
  {
   "cell_type": "code",
   "execution_count": 27,
   "metadata": {},
   "outputs": [],
   "source": [
    "write(driver, \"title\", before=Keys.ENTER)"
   ]
  },
  {
   "cell_type": "code",
   "execution_count": 28,
   "metadata": {},
   "outputs": [],
   "source": [
    "write(driver, \"if False:\\nunknown\")"
   ]
  },
  {
   "cell_type": "code",
   "execution_count": 29,
   "metadata": {},
   "outputs": [],
   "source": [
    "# h6\n",
    "assert len(find_lints(driver, \"Cell 1 has the following undefined names: 'unknown'\")) > 0"
   ]
  },
  {
   "cell_type": "code",
   "execution_count": 30,
   "metadata": {},
   "outputs": [],
   "source": [
    "# c5\n",
    "assert len(find_lints(driver, \"The last cell of the notebook is not a markdown cell\")) > 0"
   ]
  },
  {
   "cell_type": "code",
   "execution_count": 31,
   "metadata": {},
   "outputs": [],
   "source": [
    "with act(driver) as actions:\n",
    "    actions.send_keys(Keys.ESCAPE + \"m\" + Keys.ENTER)\n",
    "reload_lints(driver)"
   ]
  },
  {
   "cell_type": "code",
   "execution_count": 32,
   "metadata": {},
   "outputs": [],
   "source": [
    "write(driver, \"templast\")"
   ]
  },
  {
   "cell_type": "code",
   "execution_count": 33,
   "metadata": {},
   "outputs": [],
   "source": [
    "write(driver, \"a = 1\", execute=False)"
   ]
  },
  {
   "cell_type": "code",
   "execution_count": 34,
   "metadata": {},
   "outputs": [],
   "source": [
    "with act(driver) as actions:\n",
    "    actions.send_keys(Keys.ESCAPE + \"b\" + Keys.ENTER)\n",
    "reload_lints(driver)"
   ]
  },
  {
   "cell_type": "code",
   "execution_count": 35,
   "metadata": {},
   "outputs": [],
   "source": [
    "write(driver, \"b = 1\")"
   ]
  },
  {
   "cell_type": "code",
   "execution_count": 36,
   "metadata": {},
   "outputs": [],
   "source": [
    "# c1\n",
    "assert len(find_lints(driver, \"Cell 3 is a non-executed cell among executed ones\")) > 0"
   ]
  },
  {
   "cell_type": "code",
   "execution_count": 37,
   "metadata": {},
   "outputs": [],
   "source": [
    "write(driver, \"\")"
   ]
  },
  {
   "cell_type": "code",
   "execution_count": 38,
   "metadata": {},
   "outputs": [],
   "source": [
    "write(driver, \"c = b\")"
   ]
  },
  {
   "cell_type": "code",
   "execution_count": 39,
   "metadata": {},
   "outputs": [],
   "source": [
    "# c3\n",
    "assert len(find_lints(driver, \"Cell 5 is empty in the middle of the notebook\")) > 0"
   ]
  },
  {
   "cell_type": "code",
   "execution_count": 40,
   "metadata": {},
   "outputs": [],
   "source": [
    "with act(driver) as actions:\n",
    "    actions.send_keys(Keys.ESCAPE + Keys.UP + Keys.UP + Keys.UP + Keys.UP + Keys.ENTER)\n",
    "    shift_enter(actions)\n",
    "    shift_enter(actions)\n",
    "    actions.send_keys(\"dd\")\n",
    "reload_lints(driver)"
   ]
  },
  {
   "cell_type": "code",
   "execution_count": 41,
   "metadata": {},
   "outputs": [],
   "source": [
    "# c2\n",
    "assert len(find_lints(driver, \"Cell 5 has the execution count 3 in the wrong order\")) > 0"
   ]
  },
  {
   "cell_type": "code",
   "execution_count": 42,
   "metadata": {},
   "outputs": [],
   "source": [
    "# h5\n",
    "assert len(find_lints(driver, \"Cell 5 uses name 'b' that was defined on In[2], but it does not exist anymore\")) > 0"
   ]
  },
  {
   "cell_type": "code",
   "execution_count": 43,
   "metadata": {},
   "outputs": [],
   "source": [
    "# h4\n",
    "assert len(find_lints(driver, \"Cell 5 skips the execution count\")) > 0"
   ]
  },
  {
   "cell_type": "code",
   "execution_count": 44,
   "metadata": {},
   "outputs": [],
   "source": [
    "with act(driver) as actions:\n",
    "    actions.send_keys(Keys.TAB)"
   ]
  },
  {
   "cell_type": "code",
   "execution_count": 45,
   "metadata": {},
   "outputs": [],
   "source": [
    "driver.find_element_by_css_selector(':not(.lm-mod-hidden) .jp-Notebook').click()"
   ]
  },
  {
   "cell_type": "code",
   "execution_count": 46,
   "metadata": {},
   "outputs": [],
   "source": [
    "with act(driver) as actions:\n",
    "    actions.send_keys(Keys.ENTER)"
   ]
  },
  {
   "cell_type": "code",
   "execution_count": 47,
   "metadata": {},
   "outputs": [],
   "source": [
    "with act(driver) as actions:\n",
    "    actions.send_keys(\" + 1\" + Keys.ESCAPE + Keys.UP)\n"
   ]
  },
  {
   "cell_type": "code",
   "execution_count": 48,
   "metadata": {},
   "outputs": [],
   "source": [
    "# h2\n",
    "lints = find_lints(driver, \"Cell 5 has changed since its execution, but it wasn't executed after the changes\")\n",
    "assert len(lints) > 0\n"
   ]
  },
  {
   "cell_type": "code",
   "execution_count": 49,
   "metadata": {},
   "outputs": [],
   "source": [
    "with act(driver) as actions:\n",
    "    actions.send_keys(Keys.DOWN)\n",
    "    shift_enter(actions)\n",
    "write(driver, \"import julynter\", before=Keys.ENTER)\n",
    "reload_lints(driver)"
   ]
  },
  {
   "cell_type": "code",
   "execution_count": 50,
   "metadata": {},
   "outputs": [],
   "source": [
    "# i1\n",
    "assert len(find_lints(driver, \"Cell 6 has imports but it is not the first cell\")) > 0"
   ]
  },
  {
   "cell_type": "code",
   "execution_count": 51,
   "metadata": {},
   "outputs": [],
   "source": [
    "# i2\n",
    "assert len(find_lints(driver, \"Module julynter was imported by Cell 6, but it is not in the requirements file\")) > 0"
   ]
  },
  {
   "cell_type": "code",
   "execution_count": 52,
   "metadata": {},
   "outputs": [],
   "source": [
    "driver.find_element_by_css_selector(':not(.lm-mod-hidden) .jp-Notebook').click()"
   ]
  },
  {
   "cell_type": "code",
   "execution_count": 53,
   "metadata": {},
   "outputs": [],
   "source": [
    "write(driver, \"temp = '/usr/bin'\", before=Keys.ENTER)"
   ]
  },
  {
   "cell_type": "code",
   "execution_count": 54,
   "metadata": {},
   "outputs": [],
   "source": [
    "reload_lints(driver)"
   ]
  },
  {
   "cell_type": "code",
   "execution_count": 55,
   "metadata": {},
   "outputs": [],
   "source": [
    "# p1\n",
    "assert len(find_lints(driver, \"Cell 7 has the following absolute paths: '/usr/bin'\")) > 0"
   ]
  },
  {
   "cell_type": "code",
   "execution_count": 56,
   "metadata": {},
   "outputs": [],
   "source": [
    "driver.find_element_by_css_selector(':not(.lm-mod-hidden) .jp-Notebook').click()"
   ]
  },
  {
   "cell_type": "code",
   "execution_count": 57,
   "metadata": {},
   "outputs": [],
   "source": [
    "with act(driver) as actions:\n",
    "    actions.send_keys(Keys.ESCAPE + \"00\")"
   ]
  },
  {
   "cell_type": "code",
   "execution_count": 58,
   "metadata": {},
   "outputs": [],
   "source": [
    "with act(driver) as actions:\n",
    "    actions.send_keys(Keys.ENTER)\n",
    "reload_lints(driver)"
   ]
  },
  {
   "cell_type": "code",
   "execution_count": 59,
   "metadata": {},
   "outputs": [],
   "source": [
    "# h1\n",
    "assert len(find_lints(driver, \"Cell 1 has execution results, but it wasn't executed on this session\")) > 0"
   ]
  },
  {
   "cell_type": "code",
   "execution_count": 60,
   "metadata": {},
   "outputs": [],
   "source": [
    "driver.find_element_by_css_selector(':not(.lm-mod-hidden) .jp-Notebook').click()\n",
    "with act(driver) as actions:\n",
    "    actions.send_keys(Keys.ESCAPE + Keys.UP + Keys.UP)"
   ]
  },
  {
   "cell_type": "code",
   "execution_count": 61,
   "metadata": {},
   "outputs": [],
   "source": [
    "with act(driver) as actions:\n",
    "    shift_enter(actions)\n",
    "reload_lints(driver)"
   ]
  },
  {
   "cell_type": "code",
   "execution_count": 62,
   "metadata": {},
   "outputs": [],
   "source": [
    "# h3\n",
    "assert len(find_lints(driver, \"Cell 7 repeats the execution count 1\")) > 0"
   ]
  },
  {
   "cell_type": "code",
   "execution_count": 63,
   "metadata": {},
   "outputs": [],
   "source": [
    "driver.find_element_by_css_selector(':not(.lm-mod-hidden) .jp-Notebook').click()"
   ]
  },
  {
   "cell_type": "code",
   "execution_count": 64,
   "metadata": {},
   "outputs": [],
   "source": [
    "# Cleanup\n",
    "write(driver, \"!rm NormalTitle.ipynb\", before=Keys.ENTER)"
   ]
  },
  {
   "cell_type": "code",
   "execution_count": 65,
   "metadata": {},
   "outputs": [],
   "source": [
    "with act(driver) as actions:\n",
    "    actions.key_down(Keys.ALT).send_keys(\"W\").key_up(Keys.ALT)"
   ]
  },
  {
   "cell_type": "code",
   "execution_count": 66,
   "metadata": {},
   "outputs": [],
   "source": [
    "with act(driver) as actions:\n",
    "    actions.send_keys(Keys.LEFT + Keys.ENTER)"
   ]
  },
  {
   "cell_type": "markdown",
   "metadata": {},
   "source": [
    "# Finished!\n",
    "Make sure to check that the notebook `NormalTitle.ipynb` were deleted"
   ]
  },
  {
   "cell_type": "code",
   "execution_count": null,
   "metadata": {},
   "outputs": [],
   "source": []
  }
 ],
 "metadata": {
  "julynter-check-filtered-hashes": [
   "f1b6743886ad56510240bccf4f8a521bb9e715bc",
   "40197c9415d9b39b49e5529da74b0ef3b6156264"
  ],
  "julynter-check-restart": false,
  "julynter-check-view": true,
  "julynter-results": {
   "filteredId": [],
   "filteredIndividual": [],
   "filteredRestart": [],
   "filteredType": [],
   "hash": "7f2163ec5bb19ef27efe11a5abf664f296885161",
   "visible": []
  },
  "kernelspec": {
   "display_name": "Python 3",
   "language": "python",
   "name": "python3"
  },
  "language_info": {
   "codemirror_mode": {
    "name": "ipython",
    "version": 3
   },
   "file_extension": ".py",
   "mimetype": "text/x-python",
   "name": "python",
   "nbconvert_exporter": "python",
   "pygments_lexer": "ipython3",
   "version": "3.8.3"
  }
 },
 "nbformat": 4,
 "nbformat_minor": 4
}
